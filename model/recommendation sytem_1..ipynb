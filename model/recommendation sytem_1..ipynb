{
 "cells": [
  {
   "cell_type": "markdown",
   "metadata": {},
   "source": [
    "## Importing Files"
   ]
  },
  {
   "cell_type": "code",
   "execution_count": 90,
   "metadata": {},
   "outputs": [
    {
     "data": {
      "text/plain": [
       "(24905, 24)"
      ]
     },
     "execution_count": 90,
     "metadata": {},
     "output_type": "execute_result"
    }
   ],
   "source": [
    "from IPython.display import HTML \n",
    "import pandas as pd,numpy as np\n",
    "\n",
    "anime = pd.read_csv(\"anime-dataset-2023.csv\")\n",
    "anime.shape\n",
    "#anime"
   ]
  },
  {
   "cell_type": "markdown",
   "metadata": {},
   "source": [
    "## Feature Engineering"
   ]
  },
  {
   "cell_type": "code",
   "execution_count": 91,
   "metadata": {},
   "outputs": [
    {
     "name": "stdout",
     "output_type": "stream",
     "text": [
      "(15692, 24)\n"
     ]
    }
   ],
   "source": [
    "# Selecting important features for the recommendation system\n",
    "'''\n",
    "anime = anime[[\n",
    "    'Score', 'Genres', 'Type', 'Episodes', 'Studios', \n",
    "    'Source', 'Rating', 'Popularity', 'Synopsis'\n",
    "]]'''\n",
    "\n",
    "anime[['Popularity', 'Score']] = anime[['Popularity', 'Score']].replace('UNKNOWN', np.nan)\n",
    "\n",
    "# Drop rows with NaN values in 'Popularity' or 'Score' columns\n",
    "anime = anime.dropna(subset=['Popularity', 'Score'])\n",
    "anime.reset_index(drop=True, inplace=True)\n",
    "\n",
    "# Display the shape of the cleaned dataset\n",
    "print(anime.shape)"
   ]
  },
  {
   "cell_type": "code",
   "execution_count": 92,
   "metadata": {},
   "outputs": [],
   "source": [
    "#anime.head()"
   ]
  },
  {
   "cell_type": "code",
   "execution_count": 93,
   "metadata": {},
   "outputs": [
    {
     "data": {
      "text/plain": [
       "(10, 24)"
      ]
     },
     "execution_count": 93,
     "metadata": {},
     "output_type": "execute_result"
    }
   ],
   "source": [
    "import random\n",
    "\n",
    "# Generate a list of random indices\n",
    "random_indices = random.sample(range(len(anime)), 10)\n",
    "\n",
    "# Create a DataFrame containing the randomly selected rows\n",
    "random = pd.concat([anime.iloc[index] for index in random_indices], axis=1).T\n",
    "\n",
    "random = random.reset_index(drop=True)\n",
    "random.shape"
   ]
  },
  {
   "cell_type": "code",
   "execution_count": 94,
   "metadata": {},
   "outputs": [],
   "source": [
    "#anime[\"Genres\"] = anime[\"Genres\"].replace('Sci-Fi', np.nan)"
   ]
  },
  {
   "cell_type": "code",
   "execution_count": 95,
   "metadata": {},
   "outputs": [
    {
     "name": "stdout",
     "output_type": "stream",
     "text": [
      "                                                    Name  Popularity     Score\n",
      "0                                           Cowboy Bebop    0.002189  0.951724\n",
      "1                        Cowboy Bebop: Tengoku no Tobira    0.031318  0.900690\n",
      "2                                                 Trigun    0.012767  0.878621\n",
      "3                                     Witch Hunter Robin    0.093486  0.744828\n",
      "4                                         Bouken Ou Beet    0.267066  0.702069\n",
      "...                                                  ...         ...       ...\n",
      "15687  Li Shi Zhentan Shiwusuo: A Day in Lungmen - Ho...    0.770974  0.571034\n",
      "15688                                              Slash    0.875456  0.634483\n",
      "15689        The IDOLM@STER Cinderella Girls: U149 Recap    0.786660  0.582069\n",
      "15690  One Piece: Dai Gekisen Tokushuu! Hangeki Doume...    0.744659  0.612414\n",
      "15691                                               Fins    0.773372  0.634483\n",
      "\n",
      "[15692 rows x 3 columns]\n"
     ]
    }
   ],
   "source": [
    "from sklearn.preprocessing import MinMaxScaler\n",
    "import pandas as pd\n",
    "\n",
    "scaler = MinMaxScaler()\n",
    "scaled = scaler.fit_transform(anime[['Popularity', 'Score']])\n",
    "anime_rec = pd.DataFrame(data=scaled, columns=['Popularity', 'Score'])\n",
    "anime_rec['Name'] = anime['Name']  # Add 'Name' column from 'anime' DataFrame\n",
    "\n",
    "# Reorder columns if necessary\n",
    "anime_rec = anime_rec[['Name', 'Popularity', 'Score']]\n",
    "print(anime_rec)"
   ]
  },
  {
   "cell_type": "code",
   "execution_count": 96,
   "metadata": {},
   "outputs": [
    {
     "name": "stdout",
     "output_type": "stream",
     "text": [
      "<class 'pandas.core.frame.DataFrame'>\n",
      "RangeIndex: 15692 entries, 0 to 15691\n",
      "Data columns (total 24 columns):\n",
      " #   Column        Non-Null Count  Dtype \n",
      "---  ------        --------------  ----- \n",
      " 0   anime_id      15692 non-null  int64 \n",
      " 1   Name          15692 non-null  object\n",
      " 2   English name  15692 non-null  object\n",
      " 3   Other name    15692 non-null  object\n",
      " 4   Score         15692 non-null  object\n",
      " 5   Genres        15692 non-null  object\n",
      " 6   Synopsis      15692 non-null  object\n",
      " 7   Type          15692 non-null  object\n",
      " 8   Episodes      15692 non-null  object\n",
      " 9   Aired         15692 non-null  object\n",
      " 10  Premiered     15692 non-null  object\n",
      " 11  Status        15692 non-null  object\n",
      " 12  Producers     15692 non-null  object\n",
      " 13  Licensors     15692 non-null  object\n",
      " 14  Studios       15692 non-null  object\n",
      " 15  Source        15692 non-null  object\n",
      " 16  Duration      15692 non-null  object\n",
      " 17  Rating        15692 non-null  object\n",
      " 18  Rank          15692 non-null  object\n",
      " 19  Popularity    15692 non-null  int64 \n",
      " 20  Favorites     15692 non-null  int64 \n",
      " 21  Scored By     15692 non-null  object\n",
      " 22  Members       15692 non-null  int64 \n",
      " 23  Image URL     15692 non-null  object\n",
      "dtypes: int64(4), object(20)\n",
      "memory usage: 2.9+ MB\n"
     ]
    }
   ],
   "source": [
    "anime.info()"
   ]
  },
  {
   "cell_type": "code",
   "execution_count": 97,
   "metadata": {},
   "outputs": [],
   "source": [
    "content = anime[['Genres', 'Status', 'Producers', 'Licensors', 'Studios', 'Rating']]"
   ]
  },
  {
   "cell_type": "code",
   "execution_count": 98,
   "metadata": {},
   "outputs": [],
   "source": [
    "import re\n",
    "from nltk.corpus import stopwords\n",
    "\n",
    "def preprocess_text(text):\n",
    "    # Menghapus karakter khusus\n",
    "    cleaned_text = re.sub(r'[^a-zA-Z\\s]', '', text)\n",
    "    \n",
    "    # Tokenisasi\n",
    "    tokens = cleaned_text.split()\n",
    "    \n",
    "    # Konversi ke huruf kecil\n",
    "    lowercase_text = cleaned_text.lower()\n",
    "    \n",
    "    # Stopword removal\n",
    "    stopwords_set = set(stopwords.words('english'))\n",
    "    words = lowercase_text.split()\n",
    "    filtered_words = [word for word in words if word not in stopwords_set]\n",
    "    \n",
    "    return filtered_words\n",
    "\n",
    "Synopsis = anime['Synopsis'].apply(preprocess_text)\n"
   ]
  },
  {
   "cell_type": "code",
   "execution_count": 99,
   "metadata": {},
   "outputs": [
    {
     "data": {
      "text/plain": [
       "0        [crime, timeless, year, humanity, expanded, ac...\n",
       "1        [another, day, another, bountysuch, life, ofte...\n",
       "2        [vash, stampede, man, bounty, head, reason, he...\n",
       "3        [robin, sena, powerful, craft, user, drafted, ...\n",
       "4        [dark, century, people, suffering, rule, devil...\n",
       "                               ...                        \n",
       "15687    [infiltrating, disguising, raiding, tonight, s...\n",
       "15688    [music, video, song, slash, yama, song, featur...\n",
       "15689    [recap, first, seven, episodes, idolmster, cin...\n",
       "15690                      [th, recap, special, wano, arc]\n",
       "15691        [music, video, song, fins, tsunomaki, watame]\n",
       "Name: Synopsis, Length: 15692, dtype: object"
      ]
     },
     "execution_count": 99,
     "metadata": {},
     "output_type": "execute_result"
    }
   ],
   "source": [
    "content_simple"
   ]
  },
  {
   "cell_type": "code",
   "execution_count": 100,
   "metadata": {},
   "outputs": [],
   "source": [
    "import re\n",
    "import string\n",
    "\n",
    "def separate(text):\n",
    "    clean_text = []\n",
    "    for t in text.split(','):\n",
    "        cleaned = re.sub('\\(.*\\)', '', t) # Remove text inside parentheses\n",
    "        cleaned = cleaned.translate(str.maketrans('', '', string.digits)) # Remove digits\n",
    "        cleaned = cleaned.replace(' ', '') # Remove spaces\n",
    "        cleaned = cleaned.translate(str.maketrans('', '', string.punctuation)) # Remove punctuation\n",
    "        cleaned = cleaned.replace('-', '') # Remove hyphens\n",
    "        cleaned = cleaned.lower() # Convert to lowercase\n",
    "        clean_text.append(cleaned)\n",
    "    return ' '.join(clean_text)\n",
    "\n",
    "def remove_punc(text):\n",
    "    cleaned = text.translate(str.maketrans('','', string.punctuation)).lower()\n",
    "    clean_text = cleaned.translate(str.maketrans('','', string.digits))\n",
    "    return clean_text"
   ]
  },
  {
   "cell_type": "code",
   "execution_count": 101,
   "metadata": {},
   "outputs": [
    {
     "data": {
      "text/html": [
       "<div><div id=5bab58ff-fb01-41d8-9f65-f38490aedb18 style=\"display:none; background-color:#9D6CFF; color:white; width:200px; height:30px; padding-left:5px; border-radius:4px; flex-direction:row; justify-content:space-around; align-items:center;\" onmouseover=\"this.style.backgroundColor='#BA9BF8'\" onmouseout=\"this.style.backgroundColor='#9D6CFF'\" onclick=\"window.commands?.execute('create-mitosheet-from-dataframe-output');\">See Full Dataframe in Mito</div> <script> if (window.commands?.hasCommand('create-mitosheet-from-dataframe-output')) document.getElementById('5bab58ff-fb01-41d8-9f65-f38490aedb18').style.display = 'flex' </script> <table border=\"1\" class=\"dataframe\">\n",
       "  <thead>\n",
       "    <tr style=\"text-align: right;\">\n",
       "      <th></th>\n",
       "      <th>Genres</th>\n",
       "      <th>Status</th>\n",
       "      <th>Producers</th>\n",
       "      <th>Licensors</th>\n",
       "      <th>Studios</th>\n",
       "      <th>Rating</th>\n",
       "    </tr>\n",
       "  </thead>\n",
       "  <tbody>\n",
       "    <tr>\n",
       "      <th>0</th>\n",
       "      <td>Action, Award Winning, Sci-Fi</td>\n",
       "      <td>Finished Airing</td>\n",
       "      <td>Bandai Visual</td>\n",
       "      <td>Funimation, Bandai Entertainment</td>\n",
       "      <td>Sunrise</td>\n",
       "      <td>R - 17+ (violence &amp; profanity)</td>\n",
       "    </tr>\n",
       "    <tr>\n",
       "      <th>1</th>\n",
       "      <td>Action, Sci-Fi</td>\n",
       "      <td>Finished Airing</td>\n",
       "      <td>Sunrise, Bandai Visual</td>\n",
       "      <td>Sony Pictures Entertainment</td>\n",
       "      <td>Bones</td>\n",
       "      <td>R - 17+ (violence &amp; profanity)</td>\n",
       "    </tr>\n",
       "    <tr>\n",
       "      <th>2</th>\n",
       "      <td>Action, Adventure, Sci-Fi</td>\n",
       "      <td>Finished Airing</td>\n",
       "      <td>Victor Entertainment</td>\n",
       "      <td>Funimation, Geneon Entertainment USA</td>\n",
       "      <td>Madhouse</td>\n",
       "      <td>PG-13 - Teens 13 or older</td>\n",
       "    </tr>\n",
       "    <tr>\n",
       "      <th>3</th>\n",
       "      <td>Action, Drama, Mystery, Supernatural</td>\n",
       "      <td>Finished Airing</td>\n",
       "      <td>Bandai Visual, Dentsu, Victor Entertainment, TV Tokyo Music</td>\n",
       "      <td>Funimation, Bandai Entertainment</td>\n",
       "      <td>Sunrise</td>\n",
       "      <td>PG-13 - Teens 13 or older</td>\n",
       "    </tr>\n",
       "    <tr>\n",
       "      <th>4</th>\n",
       "      <td>Adventure, Fantasy, Supernatural</td>\n",
       "      <td>Finished Airing</td>\n",
       "      <td>TV Tokyo, Dentsu</td>\n",
       "      <td>Illumitoon Entertainment</td>\n",
       "      <td>Toei Animation</td>\n",
       "      <td>PG - Children</td>\n",
       "    </tr>\n",
       "    <tr>\n",
       "      <th>...</th>\n",
       "      <td>...</td>\n",
       "      <td>...</td>\n",
       "      <td>...</td>\n",
       "      <td>...</td>\n",
       "      <td>...</td>\n",
       "      <td>...</td>\n",
       "    </tr>\n",
       "    <tr>\n",
       "      <th>15687</th>\n",
       "      <td>Action, Comedy, Mystery</td>\n",
       "      <td>Finished Airing</td>\n",
       "      <td>UNKNOWN</td>\n",
       "      <td>UNKNOWN</td>\n",
       "      <td>HMCH, Gravity Well</td>\n",
       "      <td>PG-13 - Teens 13 or older</td>\n",
       "    </tr>\n",
       "    <tr>\n",
       "      <th>15688</th>\n",
       "      <td>UNKNOWN</td>\n",
       "      <td>Finished Airing</td>\n",
       "      <td>MAZRI</td>\n",
       "      <td>UNKNOWN</td>\n",
       "      <td>UNKNOWN</td>\n",
       "      <td>PG-13 - Teens 13 or older</td>\n",
       "    </tr>\n",
       "    <tr>\n",
       "      <th>15689</th>\n",
       "      <td>UNKNOWN</td>\n",
       "      <td>Finished Airing</td>\n",
       "      <td>UNKNOWN</td>\n",
       "      <td>UNKNOWN</td>\n",
       "      <td>CygamesPictures</td>\n",
       "      <td>PG-13 - Teens 13 or older</td>\n",
       "    </tr>\n",
       "    <tr>\n",
       "      <th>15690</th>\n",
       "      <td>Action, Adventure, Comedy, Fantasy</td>\n",
       "      <td>Finished Airing</td>\n",
       "      <td>UNKNOWN</td>\n",
       "      <td>UNKNOWN</td>\n",
       "      <td>UNKNOWN</td>\n",
       "      <td>PG-13 - Teens 13 or older</td>\n",
       "    </tr>\n",
       "    <tr>\n",
       "      <th>15691</th>\n",
       "      <td>UNKNOWN</td>\n",
       "      <td>Finished Airing</td>\n",
       "      <td>UNKNOWN</td>\n",
       "      <td>UNKNOWN</td>\n",
       "      <td>UNKNOWN</td>\n",
       "      <td>G - All Ages</td>\n",
       "    </tr>\n",
       "  </tbody>\n",
       "</table></div>"
      ],
      "text/plain": [
       "                                     Genres           Status  \\\n",
       "0             Action, Award Winning, Sci-Fi  Finished Airing   \n",
       "1                            Action, Sci-Fi  Finished Airing   \n",
       "2                 Action, Adventure, Sci-Fi  Finished Airing   \n",
       "3      Action, Drama, Mystery, Supernatural  Finished Airing   \n",
       "4          Adventure, Fantasy, Supernatural  Finished Airing   \n",
       "...                                     ...              ...   \n",
       "15687               Action, Comedy, Mystery  Finished Airing   \n",
       "15688                               UNKNOWN  Finished Airing   \n",
       "15689                               UNKNOWN  Finished Airing   \n",
       "15690    Action, Adventure, Comedy, Fantasy  Finished Airing   \n",
       "15691                               UNKNOWN  Finished Airing   \n",
       "\n",
       "                                               Producers  \\\n",
       "0                                          Bandai Visual   \n",
       "1                                 Sunrise, Bandai Visual   \n",
       "2                                   Victor Entertainment   \n",
       "3      Bandai Visual, Dentsu, Victor Entertainment, T...   \n",
       "4                                       TV Tokyo, Dentsu   \n",
       "...                                                  ...   \n",
       "15687                                            UNKNOWN   \n",
       "15688                                              MAZRI   \n",
       "15689                                            UNKNOWN   \n",
       "15690                                            UNKNOWN   \n",
       "15691                                            UNKNOWN   \n",
       "\n",
       "                                  Licensors             Studios  \\\n",
       "0          Funimation, Bandai Entertainment             Sunrise   \n",
       "1               Sony Pictures Entertainment               Bones   \n",
       "2      Funimation, Geneon Entertainment USA            Madhouse   \n",
       "3          Funimation, Bandai Entertainment             Sunrise   \n",
       "4                  Illumitoon Entertainment      Toei Animation   \n",
       "...                                     ...                 ...   \n",
       "15687                               UNKNOWN  HMCH, Gravity Well   \n",
       "15688                               UNKNOWN             UNKNOWN   \n",
       "15689                               UNKNOWN     CygamesPictures   \n",
       "15690                               UNKNOWN             UNKNOWN   \n",
       "15691                               UNKNOWN             UNKNOWN   \n",
       "\n",
       "                               Rating  \n",
       "0      R - 17+ (violence & profanity)  \n",
       "1      R - 17+ (violence & profanity)  \n",
       "2           PG-13 - Teens 13 or older  \n",
       "3           PG-13 - Teens 13 or older  \n",
       "4                       PG - Children  \n",
       "...                               ...  \n",
       "15687       PG-13 - Teens 13 or older  \n",
       "15688       PG-13 - Teens 13 or older  \n",
       "15689       PG-13 - Teens 13 or older  \n",
       "15690       PG-13 - Teens 13 or older  \n",
       "15691                    G - All Ages  \n",
       "\n",
       "[15692 rows x 6 columns]"
      ]
     },
     "execution_count": 101,
     "metadata": {},
     "output_type": "execute_result"
    }
   ],
   "source": [
    "content"
   ]
  },
  {
   "cell_type": "code",
   "execution_count": 102,
   "metadata": {},
   "outputs": [
    {
     "name": "stderr",
     "output_type": "stream",
     "text": [
      "C:\\Users\\M S I\\AppData\\Local\\Temp\\ipykernel_18136\\4167608239.py:2: SettingWithCopyWarning: \n",
      "A value is trying to be set on a copy of a slice from a DataFrame.\n",
      "Try using .loc[row_indexer,col_indexer] = value instead\n",
      "\n",
      "See the caveats in the documentation: https://pandas.pydata.org/pandas-docs/stable/user_guide/indexing.html#returning-a-view-versus-a-copy\n",
      "  content['Genres'] = content['Genres'].apply(separate)\n",
      "C:\\Users\\M S I\\AppData\\Local\\Temp\\ipykernel_18136\\4167608239.py:3: SettingWithCopyWarning: \n",
      "A value is trying to be set on a copy of a slice from a DataFrame.\n",
      "Try using .loc[row_indexer,col_indexer] = value instead\n",
      "\n",
      "See the caveats in the documentation: https://pandas.pydata.org/pandas-docs/stable/user_guide/indexing.html#returning-a-view-versus-a-copy\n",
      "  content['Status'] = content['Status'].apply(remove_punc)\n",
      "C:\\Users\\M S I\\AppData\\Local\\Temp\\ipykernel_18136\\4167608239.py:4: SettingWithCopyWarning: \n",
      "A value is trying to be set on a copy of a slice from a DataFrame.\n",
      "Try using .loc[row_indexer,col_indexer] = value instead\n",
      "\n",
      "See the caveats in the documentation: https://pandas.pydata.org/pandas-docs/stable/user_guide/indexing.html#returning-a-view-versus-a-copy\n",
      "  content['Producers'] = content['Producers'].apply(separate)\n",
      "C:\\Users\\M S I\\AppData\\Local\\Temp\\ipykernel_18136\\4167608239.py:5: SettingWithCopyWarning: \n",
      "A value is trying to be set on a copy of a slice from a DataFrame.\n",
      "Try using .loc[row_indexer,col_indexer] = value instead\n",
      "\n",
      "See the caveats in the documentation: https://pandas.pydata.org/pandas-docs/stable/user_guide/indexing.html#returning-a-view-versus-a-copy\n",
      "  content['Licensors'] = content['Licensors'].apply(separate)\n",
      "C:\\Users\\M S I\\AppData\\Local\\Temp\\ipykernel_18136\\4167608239.py:6: SettingWithCopyWarning: \n",
      "A value is trying to be set on a copy of a slice from a DataFrame.\n",
      "Try using .loc[row_indexer,col_indexer] = value instead\n",
      "\n",
      "See the caveats in the documentation: https://pandas.pydata.org/pandas-docs/stable/user_guide/indexing.html#returning-a-view-versus-a-copy\n",
      "  content['Studios'] = content['Studios'].apply(separate)\n",
      "C:\\Users\\M S I\\AppData\\Local\\Temp\\ipykernel_18136\\4167608239.py:7: SettingWithCopyWarning: \n",
      "A value is trying to be set on a copy of a slice from a DataFrame.\n",
      "Try using .loc[row_indexer,col_indexer] = value instead\n",
      "\n",
      "See the caveats in the documentation: https://pandas.pydata.org/pandas-docs/stable/user_guide/indexing.html#returning-a-view-versus-a-copy\n",
      "  content['Rating'] = content['Rating'].apply(remove_punc)\n",
      "C:\\Users\\M S I\\AppData\\Local\\Temp\\ipykernel_18136\\4167608239.py:10: SettingWithCopyWarning: \n",
      "A value is trying to be set on a copy of a slice from a DataFrame.\n",
      "Try using .loc[row_indexer,col_indexer] = value instead\n",
      "\n",
      "See the caveats in the documentation: https://pandas.pydata.org/pandas-docs/stable/user_guide/indexing.html#returning-a-view-versus-a-copy\n",
      "  content['bag_of_words'] = content.apply(lambda row: ' '.join(row), axis=1)\n"
     ]
    },
    {
     "data": {
      "text/html": [
       "<div><div id=65374222-1349-40e8-90fe-4ca5955ef10d style=\"display:none; background-color:#9D6CFF; color:white; width:200px; height:30px; padding-left:5px; border-radius:4px; flex-direction:row; justify-content:space-around; align-items:center;\" onmouseover=\"this.style.backgroundColor='#BA9BF8'\" onmouseout=\"this.style.backgroundColor='#9D6CFF'\" onclick=\"window.commands?.execute('create-mitosheet-from-dataframe-output');\">See Full Dataframe in Mito</div> <script> if (window.commands?.hasCommand('create-mitosheet-from-dataframe-output')) document.getElementById('65374222-1349-40e8-90fe-4ca5955ef10d').style.display = 'flex' </script> <table border=\"1\" class=\"dataframe\">\n",
       "  <thead>\n",
       "    <tr style=\"text-align: right;\">\n",
       "      <th></th>\n",
       "      <th>bag_of_words</th>\n",
       "    </tr>\n",
       "  </thead>\n",
       "  <tbody>\n",
       "    <tr>\n",
       "      <th>0</th>\n",
       "      <td>action awardwinning scifi finished airing bandaivisual funimation bandaientertainment sunrise r   violence  profanity</td>\n",
       "    </tr>\n",
       "    <tr>\n",
       "      <th>1</th>\n",
       "      <td>action scifi finished airing sunrise bandaivisual sonypicturesentertainment bones r   violence  profanity</td>\n",
       "    </tr>\n",
       "    <tr>\n",
       "      <th>2</th>\n",
       "      <td>action adventure scifi finished airing victorentertainment funimation geneonentertainmentusa madhouse pg  teens  or older</td>\n",
       "    </tr>\n",
       "    <tr>\n",
       "      <th>3</th>\n",
       "      <td>action drama mystery supernatural finished airing bandaivisual dentsu victorentertainment tvtokyomusic funimation bandaientertainment sunrise pg  teens  or older</td>\n",
       "    </tr>\n",
       "    <tr>\n",
       "      <th>4</th>\n",
       "      <td>adventure fantasy supernatural finished airing tvtokyo dentsu illumitoonentertainment toeianimation pg  children</td>\n",
       "    </tr>\n",
       "  </tbody>\n",
       "</table></div>"
      ],
      "text/plain": [
       "                                        bag_of_words\n",
       "0  action awardwinning scifi finished airing band...\n",
       "1  action scifi finished airing sunrise bandaivis...\n",
       "2  action adventure scifi finished airing victore...\n",
       "3  action drama mystery supernatural finished air...\n",
       "4  adventure fantasy supernatural finished airing..."
      ]
     },
     "execution_count": 102,
     "metadata": {},
     "output_type": "execute_result"
    }
   ],
   "source": [
    "# Terapkan fungsi-fungsi ke kolom yang sesuai\n",
    "content['Genres'] = content['Genres'].apply(separate)\n",
    "content['Status'] = content['Status'].apply(remove_punc)\n",
    "content['Producers'] = content['Producers'].apply(separate)\n",
    "content['Licensors'] = content['Licensors'].apply(separate)\n",
    "content['Studios'] = content['Studios'].apply(separate)\n",
    "content['Rating'] = content['Rating'].apply(remove_punc)\n",
    "\n",
    "# Buat kolom 'bag_of_words' dengan menggabungkan nilai kolom lainnya\n",
    "content['bag_of_words'] = content.apply(lambda row: ' '.join(row), axis=1)\n",
    "\n",
    "# Ambil kolom 'bag_of_words' sebagai hasil akhir\n",
    "content = content[['bag_of_words']]\n",
    "\n",
    "# Tampilkan DataFrame hasil\n",
    "content.head()"
   ]
  },
  {
   "cell_type": "code",
   "execution_count": 103,
   "metadata": {},
   "outputs": [
    {
     "data": {
      "text/html": [
       "<div><div id=bdfc2e6a-8f22-4b81-a527-a94632d8af23 style=\"display:none; background-color:#9D6CFF; color:white; width:200px; height:30px; padding-left:5px; border-radius:4px; flex-direction:row; justify-content:space-around; align-items:center;\" onmouseover=\"this.style.backgroundColor='#BA9BF8'\" onmouseout=\"this.style.backgroundColor='#9D6CFF'\" onclick=\"window.commands?.execute('create-mitosheet-from-dataframe-output');\">See Full Dataframe in Mito</div> <script> if (window.commands?.hasCommand('create-mitosheet-from-dataframe-output')) document.getElementById('bdfc2e6a-8f22-4b81-a527-a94632d8af23').style.display = 'flex' </script> <table border=\"1\" class=\"dataframe\">\n",
       "  <thead>\n",
       "    <tr style=\"text-align: right;\">\n",
       "      <th></th>\n",
       "      <th>Name</th>\n",
       "      <th>Popularity</th>\n",
       "      <th>Score</th>\n",
       "      <th>bag_of_words</th>\n",
       "    </tr>\n",
       "  </thead>\n",
       "  <tbody>\n",
       "    <tr>\n",
       "      <th>0</th>\n",
       "      <td>Cowboy Bebop</td>\n",
       "      <td>0.002189</td>\n",
       "      <td>0.951724</td>\n",
       "      <td>action awardwinning scifi finished airing bandaivisual funimation bandaientertainment sunrise r   violence  profanity</td>\n",
       "    </tr>\n",
       "    <tr>\n",
       "      <th>1</th>\n",
       "      <td>Cowboy Bebop: Tengoku no Tobira</td>\n",
       "      <td>0.031318</td>\n",
       "      <td>0.900690</td>\n",
       "      <td>action scifi finished airing sunrise bandaivisual sonypicturesentertainment bones r   violence  profanity</td>\n",
       "    </tr>\n",
       "    <tr>\n",
       "      <th>2</th>\n",
       "      <td>Trigun</td>\n",
       "      <td>0.012767</td>\n",
       "      <td>0.878621</td>\n",
       "      <td>action adventure scifi finished airing victorentertainment funimation geneonentertainmentusa madhouse pg  teens  or older</td>\n",
       "    </tr>\n",
       "    <tr>\n",
       "      <th>3</th>\n",
       "      <td>Witch Hunter Robin</td>\n",
       "      <td>0.093486</td>\n",
       "      <td>0.744828</td>\n",
       "      <td>action drama mystery supernatural finished airing bandaivisual dentsu victorentertainment tvtokyomusic funimation bandaientertainment sunrise pg  teens  or older</td>\n",
       "    </tr>\n",
       "    <tr>\n",
       "      <th>4</th>\n",
       "      <td>Bouken Ou Beet</td>\n",
       "      <td>0.267066</td>\n",
       "      <td>0.702069</td>\n",
       "      <td>adventure fantasy supernatural finished airing tvtokyo dentsu illumitoonentertainment toeianimation pg  children</td>\n",
       "    </tr>\n",
       "    <tr>\n",
       "      <th>...</th>\n",
       "      <td>...</td>\n",
       "      <td>...</td>\n",
       "      <td>...</td>\n",
       "      <td>...</td>\n",
       "    </tr>\n",
       "    <tr>\n",
       "      <th>15687</th>\n",
       "      <td>Li Shi Zhentan Shiwusuo: A Day in Lungmen - Home Service</td>\n",
       "      <td>0.770974</td>\n",
       "      <td>0.571034</td>\n",
       "      <td>action comedy mystery finished airing unknown unknown hmch gravitywell pg  teens  or older</td>\n",
       "    </tr>\n",
       "    <tr>\n",
       "      <th>15688</th>\n",
       "      <td>Slash</td>\n",
       "      <td>0.875456</td>\n",
       "      <td>0.634483</td>\n",
       "      <td>unknown finished airing mazri unknown unknown pg  teens  or older</td>\n",
       "    </tr>\n",
       "    <tr>\n",
       "      <th>15689</th>\n",
       "      <td>The IDOLM@STER Cinderella Girls: U149 Recap</td>\n",
       "      <td>0.786660</td>\n",
       "      <td>0.582069</td>\n",
       "      <td>unknown finished airing unknown unknown cygamespictures pg  teens  or older</td>\n",
       "    </tr>\n",
       "    <tr>\n",
       "      <th>15690</th>\n",
       "      <td>One Piece: Dai Gekisen Tokushuu! Hangeki Doumei vs. Big Mom</td>\n",
       "      <td>0.744659</td>\n",
       "      <td>0.612414</td>\n",
       "      <td>action adventure comedy fantasy finished airing unknown unknown unknown pg  teens  or older</td>\n",
       "    </tr>\n",
       "    <tr>\n",
       "      <th>15691</th>\n",
       "      <td>Fins</td>\n",
       "      <td>0.773372</td>\n",
       "      <td>0.634483</td>\n",
       "      <td>unknown finished airing unknown unknown unknown g  all ages</td>\n",
       "    </tr>\n",
       "  </tbody>\n",
       "</table></div>"
      ],
      "text/plain": [
       "                                                    Name  Popularity  \\\n",
       "0                                           Cowboy Bebop    0.002189   \n",
       "1                        Cowboy Bebop: Tengoku no Tobira    0.031318   \n",
       "2                                                 Trigun    0.012767   \n",
       "3                                     Witch Hunter Robin    0.093486   \n",
       "4                                         Bouken Ou Beet    0.267066   \n",
       "...                                                  ...         ...   \n",
       "15687  Li Shi Zhentan Shiwusuo: A Day in Lungmen - Ho...    0.770974   \n",
       "15688                                              Slash    0.875456   \n",
       "15689        The IDOLM@STER Cinderella Girls: U149 Recap    0.786660   \n",
       "15690  One Piece: Dai Gekisen Tokushuu! Hangeki Doume...    0.744659   \n",
       "15691                                               Fins    0.773372   \n",
       "\n",
       "          Score                                       bag_of_words  \n",
       "0      0.951724  action awardwinning scifi finished airing band...  \n",
       "1      0.900690  action scifi finished airing sunrise bandaivis...  \n",
       "2      0.878621  action adventure scifi finished airing victore...  \n",
       "3      0.744828  action drama mystery supernatural finished air...  \n",
       "4      0.702069  adventure fantasy supernatural finished airing...  \n",
       "...         ...                                                ...  \n",
       "15687  0.571034  action comedy mystery finished airing unknown ...  \n",
       "15688  0.634483  unknown finished airing mazri unknown unknown ...  \n",
       "15689  0.582069  unknown finished airing unknown unknown cygame...  \n",
       "15690  0.612414  action adventure comedy fantasy finished airin...  \n",
       "15691  0.634483  unknown finished airing unknown unknown unknow...  \n",
       "\n",
       "[15692 rows x 4 columns]"
      ]
     },
     "execution_count": 103,
     "metadata": {},
     "output_type": "execute_result"
    }
   ],
   "source": [
    "content = pd.concat([anime_rec, content], axis=1)\n",
    "content_2 = pd.concat([anime_rec, content_simple], axis=1)\n",
    "content"
   ]
  },
  {
   "cell_type": "code",
   "execution_count": 109,
   "metadata": {},
   "outputs": [
    {
     "data": {
      "text/plain": [
       "<10000x626 sparse matrix of type '<class 'numpy.float64'>'\n",
       "\twith 93437 stored elements in Compressed Sparse Row format>"
      ]
     },
     "execution_count": 109,
     "metadata": {},
     "output_type": "execute_result"
    }
   ],
   "source": [
    "from sklearn.feature_extraction.text import TfidfVectorizer\n",
    "\n",
    "conten = anime_rec[:10000].merge(content, left_index=True, right_index=True, how='left')\n",
    "\n",
    "tfidf = TfidfVectorizer(stop_words='english', min_df=5)\n",
    "tfidf_matrix = tfidf.fit_transform(conten['bag_of_words'])\n",
    "tfidf_matrix.shape"
   ]
  },
  {
   "cell_type": "code",
   "execution_count": 106,
   "metadata": {},
   "outputs": [
    {
     "data": {
      "text/plain": [
       "(10000, 10000)"
      ]
     },
     "execution_count": 106,
     "metadata": {},
     "output_type": "execute_result"
    }
   ],
   "source": [
    "from sklearn.metrics.pairwise import cosine_similarity\n",
    "\n",
    "cos_sim = cosine_similarity(tfidf_matrix)\n",
    "cos_sim.shape"
   ]
  },
  {
   "cell_type": "code",
   "execution_count": 107,
   "metadata": {},
   "outputs": [],
   "source": [
    "def predict(title, similarity_weight=0.7, top_n=10):\n",
    "    data = content.reset_index()\n",
    "    index_movie = data[data['Name'] == title].index\n",
    "    similarity = cos_sim[index_movie].T\n",
    "    \n",
    "    sim_df = pd.DataFrame(similarity, columns=['similarity'])\n",
    "    final_df = pd.concat([data, sim_df], axis=1)\n",
    "    # You can also play around with the number\n",
    "    final_df['final_score'] = final_df['score']*(1-similarity_weight) + final_df['similarity']*similarity_weight\n",
    "    \n",
    "    final_df_sorted = final_df.sort_values(by='final_score', ascending=False).head(top_n)\n",
    "    final_df_sorted.set_index('Name', inplace=True)\n",
    "    return final_df_sorted[['score', 'similarity', 'final_score']]"
   ]
  },
  {
   "cell_type": "code",
   "execution_count": 108,
   "metadata": {},
   "outputs": [
    {
     "ename": "ValueError",
     "evalue": "Shape of passed values is (10000, 0), indices imply (10000, 1)",
     "output_type": "error",
     "traceback": [
      "\u001b[1;31m---------------------------------------------------------------------------\u001b[0m",
      "\u001b[1;31mValueError\u001b[0m                                Traceback (most recent call last)",
      "Cell \u001b[1;32mIn [108], line 4\u001b[0m\n\u001b[0;32m      1\u001b[0m title \u001b[38;5;241m=\u001b[39m \u001b[38;5;28minput\u001b[39m(\u001b[38;5;124m\"\u001b[39m\u001b[38;5;124mMasukkan judul anime: \u001b[39m\u001b[38;5;124m\"\u001b[39m)\n\u001b[0;32m      3\u001b[0m \u001b[38;5;66;03m# Panggil fungsi predict dengan inputan user\u001b[39;00m\n\u001b[1;32m----> 4\u001b[0m \u001b[43mpredict\u001b[49m\u001b[43m(\u001b[49m\u001b[43mtitle\u001b[49m\u001b[43m,\u001b[49m\u001b[43m \u001b[49m\u001b[43msimilarity_weight\u001b[49m\u001b[38;5;241;43m=\u001b[39;49m\u001b[38;5;241;43m0.7\u001b[39;49m\u001b[43m,\u001b[49m\u001b[43m \u001b[49m\u001b[43mtop_n\u001b[49m\u001b[38;5;241;43m=\u001b[39;49m\u001b[38;5;241;43m10\u001b[39;49m\u001b[43m)\u001b[49m\n",
      "Cell \u001b[1;32mIn [107], line 6\u001b[0m, in \u001b[0;36mpredict\u001b[1;34m(title, similarity_weight, top_n)\u001b[0m\n\u001b[0;32m      3\u001b[0m index_movie \u001b[38;5;241m=\u001b[39m data[data[\u001b[38;5;124m'\u001b[39m\u001b[38;5;124mName\u001b[39m\u001b[38;5;124m'\u001b[39m] \u001b[38;5;241m==\u001b[39m title]\u001b[38;5;241m.\u001b[39mindex\n\u001b[0;32m      4\u001b[0m similarity \u001b[38;5;241m=\u001b[39m cos_sim[index_movie]\u001b[38;5;241m.\u001b[39mT\n\u001b[1;32m----> 6\u001b[0m sim_df \u001b[38;5;241m=\u001b[39m \u001b[43mpd\u001b[49m\u001b[38;5;241;43m.\u001b[39;49m\u001b[43mDataFrame\u001b[49m\u001b[43m(\u001b[49m\u001b[43msimilarity\u001b[49m\u001b[43m,\u001b[49m\u001b[43m \u001b[49m\u001b[43mcolumns\u001b[49m\u001b[38;5;241;43m=\u001b[39;49m\u001b[43m[\u001b[49m\u001b[38;5;124;43m'\u001b[39;49m\u001b[38;5;124;43msimilarity\u001b[39;49m\u001b[38;5;124;43m'\u001b[39;49m\u001b[43m]\u001b[49m\u001b[43m)\u001b[49m\n\u001b[0;32m      7\u001b[0m final_df \u001b[38;5;241m=\u001b[39m pd\u001b[38;5;241m.\u001b[39mconcat([data, sim_df], axis\u001b[38;5;241m=\u001b[39m\u001b[38;5;241m1\u001b[39m)\n\u001b[0;32m      8\u001b[0m \u001b[38;5;66;03m# You can also play around with the number\u001b[39;00m\n",
      "File \u001b[1;32mc:\\Users\\M S I\\AppData\\Local\\Programs\\Python\\Python310\\lib\\site-packages\\pandas\\core\\frame.py:694\u001b[0m, in \u001b[0;36mDataFrame.__init__\u001b[1;34m(self, data, index, columns, dtype, copy)\u001b[0m\n\u001b[0;32m    684\u001b[0m         mgr \u001b[38;5;241m=\u001b[39m dict_to_mgr(\n\u001b[0;32m    685\u001b[0m             \u001b[38;5;66;03m# error: Item \"ndarray\" of \"Union[ndarray, Series, Index]\" has no\u001b[39;00m\n\u001b[0;32m    686\u001b[0m             \u001b[38;5;66;03m# attribute \"name\"\u001b[39;00m\n\u001b[1;32m   (...)\u001b[0m\n\u001b[0;32m    691\u001b[0m             typ\u001b[38;5;241m=\u001b[39mmanager,\n\u001b[0;32m    692\u001b[0m         )\n\u001b[0;32m    693\u001b[0m     \u001b[38;5;28;01melse\u001b[39;00m:\n\u001b[1;32m--> 694\u001b[0m         mgr \u001b[38;5;241m=\u001b[39m \u001b[43mndarray_to_mgr\u001b[49m\u001b[43m(\u001b[49m\n\u001b[0;32m    695\u001b[0m \u001b[43m            \u001b[49m\u001b[43mdata\u001b[49m\u001b[43m,\u001b[49m\n\u001b[0;32m    696\u001b[0m \u001b[43m            \u001b[49m\u001b[43mindex\u001b[49m\u001b[43m,\u001b[49m\n\u001b[0;32m    697\u001b[0m \u001b[43m            \u001b[49m\u001b[43mcolumns\u001b[49m\u001b[43m,\u001b[49m\n\u001b[0;32m    698\u001b[0m \u001b[43m            \u001b[49m\u001b[43mdtype\u001b[49m\u001b[38;5;241;43m=\u001b[39;49m\u001b[43mdtype\u001b[49m\u001b[43m,\u001b[49m\n\u001b[0;32m    699\u001b[0m \u001b[43m            \u001b[49m\u001b[43mcopy\u001b[49m\u001b[38;5;241;43m=\u001b[39;49m\u001b[43mcopy\u001b[49m\u001b[43m,\u001b[49m\n\u001b[0;32m    700\u001b[0m \u001b[43m            \u001b[49m\u001b[43mtyp\u001b[49m\u001b[38;5;241;43m=\u001b[39;49m\u001b[43mmanager\u001b[49m\u001b[43m,\u001b[49m\n\u001b[0;32m    701\u001b[0m \u001b[43m        \u001b[49m\u001b[43m)\u001b[49m\n\u001b[0;32m    703\u001b[0m \u001b[38;5;66;03m# For data is list-like, or Iterable (will consume into list)\u001b[39;00m\n\u001b[0;32m    704\u001b[0m \u001b[38;5;28;01melif\u001b[39;00m is_list_like(data):\n",
      "File \u001b[1;32mc:\\Users\\M S I\\AppData\\Local\\Programs\\Python\\Python310\\lib\\site-packages\\pandas\\core\\internals\\construction.py:351\u001b[0m, in \u001b[0;36mndarray_to_mgr\u001b[1;34m(values, index, columns, dtype, copy, typ)\u001b[0m\n\u001b[0;32m    346\u001b[0m \u001b[38;5;66;03m# _prep_ndarray ensures that values.ndim == 2 at this point\u001b[39;00m\n\u001b[0;32m    347\u001b[0m index, columns \u001b[38;5;241m=\u001b[39m _get_axes(\n\u001b[0;32m    348\u001b[0m     values\u001b[38;5;241m.\u001b[39mshape[\u001b[38;5;241m0\u001b[39m], values\u001b[38;5;241m.\u001b[39mshape[\u001b[38;5;241m1\u001b[39m], index\u001b[38;5;241m=\u001b[39mindex, columns\u001b[38;5;241m=\u001b[39mcolumns\n\u001b[0;32m    349\u001b[0m )\n\u001b[1;32m--> 351\u001b[0m \u001b[43m_check_values_indices_shape_match\u001b[49m\u001b[43m(\u001b[49m\u001b[43mvalues\u001b[49m\u001b[43m,\u001b[49m\u001b[43m \u001b[49m\u001b[43mindex\u001b[49m\u001b[43m,\u001b[49m\u001b[43m \u001b[49m\u001b[43mcolumns\u001b[49m\u001b[43m)\u001b[49m\n\u001b[0;32m    353\u001b[0m \u001b[38;5;28;01mif\u001b[39;00m typ \u001b[38;5;241m==\u001b[39m \u001b[38;5;124m\"\u001b[39m\u001b[38;5;124marray\u001b[39m\u001b[38;5;124m\"\u001b[39m:\n\u001b[0;32m    355\u001b[0m     \u001b[38;5;28;01mif\u001b[39;00m \u001b[38;5;28missubclass\u001b[39m(values\u001b[38;5;241m.\u001b[39mdtype\u001b[38;5;241m.\u001b[39mtype, \u001b[38;5;28mstr\u001b[39m):\n",
      "File \u001b[1;32mc:\\Users\\M S I\\AppData\\Local\\Programs\\Python\\Python310\\lib\\site-packages\\pandas\\core\\internals\\construction.py:422\u001b[0m, in \u001b[0;36m_check_values_indices_shape_match\u001b[1;34m(values, index, columns)\u001b[0m\n\u001b[0;32m    420\u001b[0m passed \u001b[38;5;241m=\u001b[39m values\u001b[38;5;241m.\u001b[39mshape\n\u001b[0;32m    421\u001b[0m implied \u001b[38;5;241m=\u001b[39m (\u001b[38;5;28mlen\u001b[39m(index), \u001b[38;5;28mlen\u001b[39m(columns))\n\u001b[1;32m--> 422\u001b[0m \u001b[38;5;28;01mraise\u001b[39;00m \u001b[38;5;167;01mValueError\u001b[39;00m(\u001b[38;5;124mf\u001b[39m\u001b[38;5;124m\"\u001b[39m\u001b[38;5;124mShape of passed values is \u001b[39m\u001b[38;5;132;01m{\u001b[39;00mpassed\u001b[38;5;132;01m}\u001b[39;00m\u001b[38;5;124m, indices imply \u001b[39m\u001b[38;5;132;01m{\u001b[39;00mimplied\u001b[38;5;132;01m}\u001b[39;00m\u001b[38;5;124m\"\u001b[39m)\n",
      "\u001b[1;31mValueError\u001b[0m: Shape of passed values is (10000, 0), indices imply (10000, 1)"
     ]
    },
    {
     "name": "stderr",
     "output_type": "stream",
     "text": [
      "error uploading: HTTPSConnectionPool(host='api.segment.io', port=443): Max retries exceeded with url: /v1/batch (Caused by ProxyError('Cannot connect to proxy.', OSError('Tunnel connection failed: 505 No host specified')))\n"
     ]
    }
   ],
   "source": [
    "title = input(\"Masukkan judul anime: \")\n",
    "\n",
    "# Panggil fungsi predict dengan inputan user\n",
    "predict(title, similarity_weight=0.7, top_n=10)"
   ]
  },
  {
   "cell_type": "code",
   "execution_count": null,
   "metadata": {},
   "outputs": [],
   "source": []
  }
 ],
 "metadata": {
  "kernelspec": {
   "display_name": "Python 3",
   "language": "python",
   "name": "python3"
  },
  "language_info": {
   "codemirror_mode": {
    "name": "ipython",
    "version": 3
   },
   "file_extension": ".py",
   "mimetype": "text/x-python",
   "name": "python",
   "nbconvert_exporter": "python",
   "pygments_lexer": "ipython3",
   "version": "3.10.7"
  }
 },
 "nbformat": 4,
 "nbformat_minor": 2
}
