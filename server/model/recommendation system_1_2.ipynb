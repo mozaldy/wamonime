{
 "cells": [
  {
   "cell_type": "markdown",
   "metadata": {},
   "source": [
    "## Importing Files"
   ]
  },
  {
   "cell_type": "code",
   "execution_count": 57,
   "metadata": {},
   "outputs": [
    {
     "data": {
      "text/plain": [
       "(24905, 24)"
      ]
     },
     "execution_count": 57,
     "metadata": {},
     "output_type": "execute_result"
    }
   ],
   "source": [
    "from IPython.display import HTML \n",
    "import pandas as pd,numpy as np\n",
    "\n",
    "anime = pd.read_csv(\"anime-dataset-2023.csv\")\n",
    "anime.shape\n",
    "#anime"
   ]
  },
  {
   "cell_type": "markdown",
   "metadata": {},
   "source": [
    "## Feature Engineering"
   ]
  },
  {
   "cell_type": "code",
   "execution_count": 1,
   "metadata": {},
   "outputs": [
    {
     "ename": "NameError",
     "evalue": "name 'anime' is not defined",
     "output_type": "error",
     "traceback": [
      "\u001b[1;31m---------------------------------------------------------------------------\u001b[0m",
      "\u001b[1;31mNameError\u001b[0m                                 Traceback (most recent call last)",
      "Cell \u001b[1;32mIn [1], line 8\u001b[0m\n\u001b[0;32m      1\u001b[0m \u001b[38;5;66;03m# Selecting important features for the recommendation system\u001b[39;00m\n\u001b[0;32m      2\u001b[0m \u001b[38;5;124;03m'''\u001b[39;00m\n\u001b[0;32m      3\u001b[0m \u001b[38;5;124;03manime = anime[[\u001b[39;00m\n\u001b[0;32m      4\u001b[0m \u001b[38;5;124;03m    'Score', 'Genres', 'Type', 'Episodes', 'Studios', \u001b[39;00m\n\u001b[0;32m      5\u001b[0m \u001b[38;5;124;03m    'Source', 'Rating', 'Popularity', 'Synopsis'\u001b[39;00m\n\u001b[0;32m      6\u001b[0m \u001b[38;5;124;03m]]'''\u001b[39;00m\n\u001b[1;32m----> 8\u001b[0m anime[[\u001b[38;5;124m'\u001b[39m\u001b[38;5;124mPopularity\u001b[39m\u001b[38;5;124m'\u001b[39m, \u001b[38;5;124m'\u001b[39m\u001b[38;5;124mScore\u001b[39m\u001b[38;5;124m'\u001b[39m]] \u001b[38;5;241m=\u001b[39m \u001b[43manime\u001b[49m[[\u001b[38;5;124m'\u001b[39m\u001b[38;5;124mPopularity\u001b[39m\u001b[38;5;124m'\u001b[39m, \u001b[38;5;124m'\u001b[39m\u001b[38;5;124mScore\u001b[39m\u001b[38;5;124m'\u001b[39m]]\u001b[38;5;241m.\u001b[39mreplace(\u001b[38;5;124m'\u001b[39m\u001b[38;5;124mUNKNOWN\u001b[39m\u001b[38;5;124m'\u001b[39m, np\u001b[38;5;241m.\u001b[39mnan)\n\u001b[0;32m     10\u001b[0m \u001b[38;5;66;03m# Drop rows with NaN values in 'Popularity' or 'Score' columns\u001b[39;00m\n\u001b[0;32m     11\u001b[0m anime \u001b[38;5;241m=\u001b[39m anime\u001b[38;5;241m.\u001b[39mdropna(subset\u001b[38;5;241m=\u001b[39m[\u001b[38;5;124m'\u001b[39m\u001b[38;5;124mPopularity\u001b[39m\u001b[38;5;124m'\u001b[39m, \u001b[38;5;124m'\u001b[39m\u001b[38;5;124mScore\u001b[39m\u001b[38;5;124m'\u001b[39m])\n",
      "\u001b[1;31mNameError\u001b[0m: name 'anime' is not defined"
     ]
    },
    {
     "name": "stderr",
     "output_type": "stream",
     "text": [
      "error uploading: HTTPSConnectionPool(host='api.segment.io', port=443): Max retries exceeded with url: /v1/batch (Caused by ProxyError('Cannot connect to proxy.', OSError('Tunnel connection failed: 505 No host specified')))\n"
     ]
    }
   ],
   "source": [
    "# Selecting important features for the recommendation system\n",
    "'''\n",
    "anime = anime[[\n",
    "    'Score', 'Genres', 'Type', 'Episodes', 'Studios', \n",
    "    'Source', 'Rating', 'Popularity', 'Synopsis'\n",
    "]]'''\n",
    "\n",
    "anime[['Popularity', 'Score']] = anime[['Popularity', 'Score']].replace('UNKNOWN', np.nan)\n",
    "\n",
    "# Drop rows with NaN values in 'Popularity' or 'Score' columns\n",
    "anime = anime.dropna(subset=['Popularity', 'Score'])\n",
    "anime.reset_index(drop=True, inplace=True)\n",
    "\n",
    "# Display the shape of the cleaned dataset\n",
    "print(anime.shape)"
   ]
  },
  {
   "cell_type": "code",
   "execution_count": 59,
   "metadata": {},
   "outputs": [],
   "source": [
    "#anime.head()"
   ]
  },
  {
   "cell_type": "code",
   "execution_count": 60,
   "metadata": {},
   "outputs": [
    {
     "data": {
      "text/plain": [
       "(10, 24)"
      ]
     },
     "execution_count": 60,
     "metadata": {},
     "output_type": "execute_result"
    }
   ],
   "source": [
    "import random\n",
    "\n",
    "# Generate a list of random indices\n",
    "random_indices = random.sample(range(len(anime)), 10)\n",
    "\n",
    "# Create a DataFrame containing the randomly selected rows\n",
    "random = pd.concat([anime.iloc[index] for index in random_indices], axis=1).T\n",
    "\n",
    "random = random.reset_index(drop=True)\n",
    "random.shape"
   ]
  },
  {
   "cell_type": "code",
   "execution_count": 61,
   "metadata": {},
   "outputs": [],
   "source": [
    "import re\n",
    "from nltk.corpus import stopwords\n",
    "\n",
    "def preprocess_text(text):\n",
    "    cleaned_text = re.sub(r'[^a-zA-Z\\s]', '', text)\n",
    "    tokens = cleaned_text.split()\n",
    "    lowercase_text = cleaned_text.lower()\n",
    "    stopwords_set = set(stopwords.words('english'))\n",
    "    words = lowercase_text.split()\n",
    "    filtered_words = [word for word in words if word not in stopwords_set]\n",
    "    return filtered_words\n",
    "\n",
    "Synopsis = anime['Synopsis'].apply(preprocess_text)"
   ]
  },
  {
   "cell_type": "code",
   "execution_count": 62,
   "metadata": {},
   "outputs": [
    {
     "data": {
      "text/html": [
       "<div><div id=11893fe1-32f1-4c51-89ad-bd0f43689996 style=\"display:none; background-color:#9D6CFF; color:white; width:200px; height:30px; padding-left:5px; border-radius:4px; flex-direction:row; justify-content:space-around; align-items:center;\" onmouseover=\"this.style.backgroundColor='#BA9BF8'\" onmouseout=\"this.style.backgroundColor='#9D6CFF'\" onclick=\"window.commands?.execute('create-mitosheet-from-dataframe-output');\">See Full Dataframe in Mito</div> <script> if (window.commands?.hasCommand('create-mitosheet-from-dataframe-output')) document.getElementById('11893fe1-32f1-4c51-89ad-bd0f43689996').style.display = 'flex' </script> <table border=\"1\" class=\"dataframe\">\n",
       "  <thead>\n",
       "    <tr style=\"text-align: right;\">\n",
       "      <th></th>\n",
       "      <th>Name</th>\n",
       "      <th>Popularity</th>\n",
       "      <th>Score</th>\n",
       "      <th>asu</th>\n",
       "    </tr>\n",
       "  </thead>\n",
       "  <tbody>\n",
       "    <tr>\n",
       "      <th>0</th>\n",
       "      <td>Cowboy Bebop</td>\n",
       "      <td>0.002189</td>\n",
       "      <td>0.951724</td>\n",
       "      <td>Crime is timeless. By the year 2071, humanity has expanded across the galaxy, filling the surface of other planets with settlements like those on Earth. These new societies are plagued by murder, drug use, and theft, and intergalactic outlaws are hunted by a growing number of tough bounty hunters.\\n\\nSpike Spiegel and Jet Black pursue criminals throughout space to make a humble living. Beneath his goofy and aloof demeanor, Spike is haunted by the weight of his violent past. Meanwhile, Jet manages his own troubled memories while taking care of Spike and the Bebop, their ship. The duo is joined by the beautiful con artist Faye Valentine, odd child Edward Wong Hau Pepelu Tivrusky IV, and Ein, a bioengineered Welsh Corgi.\\n\\nWhile developing bonds and working to catch a colorful cast of criminals, the Bebop crew's lives are disrupted by a menace from Spike's past. As a rival's maniacal plot continues to unravel, Spike must choose between life with his newfound family or revenge for his old wounds.</td>\n",
       "    </tr>\n",
       "    <tr>\n",
       "      <th>1</th>\n",
       "      <td>Cowboy Bebop: Tengoku no Tobira</td>\n",
       "      <td>0.031318</td>\n",
       "      <td>0.900690</td>\n",
       "      <td>Another day, another bounty—such is the life of the often unlucky crew of the Bebop. However, this routine is interrupted when Faye, who is chasing a fairly worthless target on Mars, witnesses an oil tanker suddenly explode, causing mass hysteria. As casualties mount due to a strange disease spreading through the smoke from the blast, a whopping three hundred million woolong price is placed on the head of the supposed perpetrator.\\n\\nWith lives at stake and a solution to their money problems in sight, the Bebop crew springs into action. Spike, Jet, Faye, and Edward, followed closely by Ein, split up to pursue different leads across Alba City. Through their individual investigations, they discover a cover-up scheme involving a pharmaceutical company, revealing a plot that reaches much further than the ragtag team of bounty hunters could have realized.</td>\n",
       "    </tr>\n",
       "    <tr>\n",
       "      <th>2</th>\n",
       "      <td>Trigun</td>\n",
       "      <td>0.012767</td>\n",
       "      <td>0.878621</td>\n",
       "      <td>Vash the Stampede is the man with a $$60,000,000,000 bounty on his head. The reason: he's a merciless villain who lays waste to all those that oppose him and flattens entire cities for fun, garnering him the title \"The Humanoid Typhoon.\" He leaves a trail of death and destruction wherever he goes, and anyone can count themselves dead if they so much as make eye contact—or so the rumors say. In actuality, Vash is a huge softie who claims to have never taken a life and avoids violence at all costs.\\n\\nWith his crazy doughnut obsession and buffoonish attitude in tow, Vash traverses the wasteland of the planet Gunsmoke, all the while followed by two insurance agents, Meryl Stryfe and Milly Thompson, who attempt to minimize his impact on the public. But soon, their misadventures evolve into life-or-death situations as a group of legendary assassins are summoned to bring about suffering to the trio. Vash's agonizing past will be unraveled and his morality and principles pushed to the breaking point.</td>\n",
       "    </tr>\n",
       "    <tr>\n",
       "      <th>3</th>\n",
       "      <td>Witch Hunter Robin</td>\n",
       "      <td>0.093486</td>\n",
       "      <td>0.744828</td>\n",
       "      <td>Robin Sena is a powerful craft user drafted into the STNJ—a group of specialized hunters that fight deadly beings known as Witches. Though her fire power is great, she's got a lot to learn about her powers and working with her cool and aloof partner, Amon. But the truth about the Witches and herself will leave Robin on an entirely new path that she never expected!\\n\\n(Source: Funimation)</td>\n",
       "    </tr>\n",
       "    <tr>\n",
       "      <th>4</th>\n",
       "      <td>Bouken Ou Beet</td>\n",
       "      <td>0.267066</td>\n",
       "      <td>0.702069</td>\n",
       "      <td>It is the dark century and the people are suffering under the rule of the devil, Vandel, who is able to manipulate monsters. The Vandel Busters are a group of people who hunt these devils, and among them, the Zenon Squad is known to be the strongest busters on the continent. A young boy, Beet, dreams of joining the Zenon Squad. However, one day, as a result of Beet's fault, the Zenon squad was defeated by the devil, Beltose. The five dying busters sacrificed their life power into their five weapons, Saiga. After giving their weapons to Beet, they passed away. Years have passed since then and the young Vandel Buster, Beet, begins his adventure to carry out the Zenon Squad's will to put an end to the dark century.</td>\n",
       "    </tr>\n",
       "    <tr>\n",
       "      <th>...</th>\n",
       "      <td>...</td>\n",
       "      <td>...</td>\n",
       "      <td>...</td>\n",
       "      <td>...</td>\n",
       "    </tr>\n",
       "    <tr>\n",
       "      <th>15687</th>\n",
       "      <td>Li Shi Zhentan Shiwusuo: A Day in Lungmen - Home Service</td>\n",
       "      <td>0.770974</td>\n",
       "      <td>0.571034</td>\n",
       "      <td>Infiltrating, disguising, and raiding. Tonight, a special mission calls for special maneuvers, and our resourceful, valiant agents at Lee's Detective agency are ready to make the breakthrough!\\n\\n(Source: YouTube)</td>\n",
       "    </tr>\n",
       "    <tr>\n",
       "      <th>15688</th>\n",
       "      <td>Slash</td>\n",
       "      <td>0.875456</td>\n",
       "      <td>0.634483</td>\n",
       "      <td>Music video for the song Slash by yama.\\n\\nThe song featured in this music video also serves as the opening theme of the anime Mobile Suit Gundam: The Witch from Mercury Season 2.</td>\n",
       "    </tr>\n",
       "    <tr>\n",
       "      <th>15689</th>\n",
       "      <td>The IDOLM@STER Cinderella Girls: U149 Recap</td>\n",
       "      <td>0.786660</td>\n",
       "      <td>0.582069</td>\n",
       "      <td>Recap of the first seven episodes of The IDOLM@STER Cinderella Girls: U149.</td>\n",
       "    </tr>\n",
       "    <tr>\n",
       "      <th>15690</th>\n",
       "      <td>One Piece: Dai Gekisen Tokushuu! Hangeki Doumei vs. Big Mom</td>\n",
       "      <td>0.744659</td>\n",
       "      <td>0.612414</td>\n",
       "      <td>This is the 8th recap special of the Wano arc.</td>\n",
       "    </tr>\n",
       "    <tr>\n",
       "      <th>15691</th>\n",
       "      <td>Fins</td>\n",
       "      <td>0.773372</td>\n",
       "      <td>0.634483</td>\n",
       "      <td>Music video for the song Fins by Tsunomaki Watame.</td>\n",
       "    </tr>\n",
       "  </tbody>\n",
       "</table></div>"
      ],
      "text/plain": [
       "                                                    Name  Popularity  \\\n",
       "0                                           Cowboy Bebop    0.002189   \n",
       "1                        Cowboy Bebop: Tengoku no Tobira    0.031318   \n",
       "2                                                 Trigun    0.012767   \n",
       "3                                     Witch Hunter Robin    0.093486   \n",
       "4                                         Bouken Ou Beet    0.267066   \n",
       "...                                                  ...         ...   \n",
       "15687  Li Shi Zhentan Shiwusuo: A Day in Lungmen - Ho...    0.770974   \n",
       "15688                                              Slash    0.875456   \n",
       "15689        The IDOLM@STER Cinderella Girls: U149 Recap    0.786660   \n",
       "15690  One Piece: Dai Gekisen Tokushuu! Hangeki Doume...    0.744659   \n",
       "15691                                               Fins    0.773372   \n",
       "\n",
       "          Score                                                asu  \n",
       "0      0.951724  Crime is timeless. By the year 2071, humanity ...  \n",
       "1      0.900690  Another day, another bounty—such is the life o...  \n",
       "2      0.878621  Vash the Stampede is the man with a $$60,000,0...  \n",
       "3      0.744828  Robin Sena is a powerful craft user drafted in...  \n",
       "4      0.702069  It is the dark century and the people are suff...  \n",
       "...         ...                                                ...  \n",
       "15687  0.571034  Infiltrating, disguising, and raiding. Tonight...  \n",
       "15688  0.634483  Music video for the song Slash by yama.\\n\\nThe...  \n",
       "15689  0.582069  Recap of the first seven episodes of The IDOLM...  \n",
       "15690  0.612414     This is the 8th recap special of the Wano arc.  \n",
       "15691  0.634483  Music video for the song Fins by Tsunomaki Wat...  \n",
       "\n",
       "[15692 rows x 4 columns]"
      ]
     },
     "execution_count": 62,
     "metadata": {},
     "output_type": "execute_result"
    }
   ],
   "source": [
    "from sklearn.preprocessing import MinMaxScaler\n",
    "import pandas as pd\n",
    "\n",
    "scaler = MinMaxScaler()\n",
    "scaled = scaler.fit_transform(anime[['Popularity', 'Score']])\n",
    "anime_rec = pd.DataFrame(data=scaled, columns=['Popularity', 'Score'])\n",
    "anime_rec['Name'] = anime['Name']  # Add 'Name' column from 'anime' DataFrame\n",
    "\n",
    "# Reorder columns if necessary\n",
    "anime_rec = anime_rec[['Name', 'Popularity', 'Score']]\n",
    "anime_rec.insert(loc=3, column='asu', value=anime['Synopsis'])\n",
    "#anime_rec.insert(loc=3, column='asu', value=Synopsis)\n",
    "anime_rec"
   ]
  },
  {
   "cell_type": "code",
   "execution_count": 63,
   "metadata": {},
   "outputs": [
    {
     "data": {
      "text/plain": [
       "(15692, 45853)"
      ]
     },
     "execution_count": 63,
     "metadata": {},
     "output_type": "execute_result"
    }
   ],
   "source": [
    "from sklearn.feature_extraction.text import TfidfVectorizer\n",
    "\n",
    "tfidf = TfidfVectorizer(stop_words='english')\n",
    "anime_rec['asu'] = anime_rec['asu'].fillna('')\n",
    "tfidf_matrix = tfidf.fit_transform(anime_rec['asu'])\n",
    "tfidf_matrix.shape\n"
   ]
  },
  {
   "cell_type": "code",
   "execution_count": 64,
   "metadata": {},
   "outputs": [],
   "source": [
    "# Import linear_kernel\n",
    "from sklearn.metrics.pairwise import linear_kernel\n",
    "cosine_sim = linear_kernel(tfidf_matrix, tfidf_matrix)\n",
    "indices = pd.Series(anime_rec.index, index=anime_rec['Name']).drop_duplicates()"
   ]
  },
  {
   "cell_type": "code",
   "execution_count": 65,
   "metadata": {},
   "outputs": [],
   "source": [
    "indices = pd.Series(anime_rec.index, index=anime_rec['Name']).drop_duplicates()\n",
    "# Function that takes in movie title as input and outputs most similar movies\n",
    "def get_recommendations(title, cosine_sim=cosine_sim):\n",
    "    # Get the index of the movie that matches the title\n",
    "    idx = indices[title]\n",
    "\n",
    "    # Get the pairwsie similarity scores of all movies with that movie\n",
    "    sim_scores = list(enumerate(cosine_sim[idx]))\n",
    "\n",
    "    # Sort the movies based on the similarity scores\n",
    "    sim_scores = sorted(sim_scores, key=lambda x: x[1], reverse=True)\n",
    "\n",
    "    # Get the scores of the 10 most similar movies\n",
    "    sim_scores = sim_scores[1:11]\n",
    "\n",
    "    # Get the movie indices\n",
    "    movie_indices = [i[0] for i in sim_scores]\n",
    "\n",
    "    # Return the top 10 most similar movies\n",
    "    return anime_rec['Name'].iloc[movie_indices]"
   ]
  },
  {
   "cell_type": "code",
   "execution_count": 67,
   "metadata": {},
   "outputs": [
    {
     "data": {
      "text/plain": [
       "3473                               Trigun: Badlands Rumble\n",
       "15294                                      Trigun Stampede\n",
       "15501                                             Good Day\n",
       "8663                           Itsumo Kokoro ni Taiyou wo!\n",
       "1328                                     Hakaima Sadamitsu\n",
       "11629    Kyoto Animation Koushiki Twitter: Itsumo Arigatou\n",
       "9855                                    Bonobono (TV 2016)\n",
       "1237     Detective Conan OVA 06: Follow the Vanished Di...\n",
       "9570                                     Aoki Seimei Hoken\n",
       "4830                                   Dai Yamato Zero-gou\n",
       "Name: Name, dtype: object"
      ]
     },
     "execution_count": 67,
     "metadata": {},
     "output_type": "execute_result"
    }
   ],
   "source": [
    "get_recommendations('Trigun')"
   ]
  },
  {
   "cell_type": "code",
   "execution_count": null,
   "metadata": {},
   "outputs": [],
   "source": [
    "import pickle\n",
    "\n",
    "# assuming 'model' is the variable holding your trained model\n",
    "with open('example.pkl', 'wb') as file:\n",
    "    pickle.dump(my_object, file)"
   ]
  },
  {
   "cell_type": "code",
   "execution_count": null,
   "metadata": {},
   "outputs": [],
   "source": [
    "import pickle\n",
    "\n",
    "# load the model from the pickle file\n",
    "model = pickle.load(open('model.pkl', 'rb'))"
   ]
  }
 ],
 "metadata": {
  "kernelspec": {
   "display_name": "Python 3",
   "language": "python",
   "name": "python3"
  },
  "language_info": {
   "codemirror_mode": {
    "name": "ipython",
    "version": 3
   },
   "file_extension": ".py",
   "mimetype": "text/x-python",
   "name": "python",
   "nbconvert_exporter": "python",
   "pygments_lexer": "ipython3",
   "version": "3.10.7"
  }
 },
 "nbformat": 4,
 "nbformat_minor": 2
}
